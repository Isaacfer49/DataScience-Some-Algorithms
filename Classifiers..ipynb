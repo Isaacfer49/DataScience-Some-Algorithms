{
 "cells": [
  {
   "cell_type": "code",
   "execution_count": 17,
   "id": "43fbf478",
   "metadata": {},
   "outputs": [],
   "source": [
    "##classifier, euclidian distance\n",
    "import numpy as np\n",
    "from sympy import Matrix, symbols, simplify,log\n"
   ]
  },
  {
   "cell_type": "code",
   "execution_count": 9,
   "id": "79e18239",
   "metadata": {},
   "outputs": [
    {
     "data": {
      "text/plain": [
       "[Matrix([[1.0*x1 + 3.0*x2 + 5.0*x3 + 1.0*x4 - 18.0]]),\n",
       " Matrix([[7.0*x1 + 8.33333333333333*x2 + 3.66666666666667*x3 + 4.33333333333333*x4 - 75.3333333333333]])]"
      ]
     },
     "execution_count": 9,
     "metadata": {},
     "output_type": "execute_result"
    }
   ],
   "source": [
    "def classifier_e(samples):\n",
    "    n_samples = len(samples)\n",
    "    X = Matrix([symbols('x' + str(i+1)) for i in range(samples[0].shape[0])])\n",
    "    fds = []\n",
    "    for s in samples:\n",
    "        z = Matrix(np.mean(s,axis=1)) ## axis for columns. \n",
    "        fds.append(simplify(X.T*z -0.5 * (z.T*z)))\n",
    "    return fds\n"
   ]
  },
  {
   "cell_type": "code",
   "execution_count": 16,
   "id": "c7226258",
   "metadata": {},
   "outputs": [
    {
     "name": "stdout",
     "output_type": "stream",
     "text": [
      "fd1  :  Matrix([[5.00000000000000]])\n",
      "fd2  :  Matrix([[-26.3333333333333]])\n"
     ]
    }
   ],
   "source": [
    "w1 = np.array([[1,5,6,1],[2,3,4,-2],[0,1,5,3],[1,3,5,2]]).T\n",
    "w2 = np.array([[6,8,-1,6],[7,9,3,6],[8,8,9,1]]).T\n",
    "\n",
    "samples=(w1,w2)\n",
    "\n",
    "fds = classifier_e(samples)\n",
    "\n",
    "for fd in range(len(fds)):\n",
    "    print ('fd' + str(fd +1), ' : ',fds[fd].evalf(subs = {'x1':3,'x2':1,'x3':3, 'x4':2}))"
   ]
  },
  {
   "cell_type": "code",
   "execution_count": null,
   "id": "4fa8e013",
   "metadata": {},
   "outputs": [],
   "source": [
    "def classifier_m(samples):\n",
    "    n_samples = len(samples)\n",
    "    X = Matrix([symbols('x' + str(i+1)) for i in range(samples[0].shape[0])])\n",
    "    for s in samples:\n",
    "        m = Matrix(np.mean(s,axis=1))\n",
    "        m_cov = np.cov(s,bias=True)\n",
    "        m_ci = Matrix(m_cov).inv()\n",
    "        fds.append(simplify())\n",
    "    return fds\n",
    "    "
   ]
  }
 ],
 "metadata": {
  "kernelspec": {
   "display_name": "Python 3 (ipykernel)",
   "language": "python",
   "name": "python3"
  },
  "language_info": {
   "codemirror_mode": {
    "name": "ipython",
    "version": 3
   },
   "file_extension": ".py",
   "mimetype": "text/x-python",
   "name": "python",
   "nbconvert_exporter": "python",
   "pygments_lexer": "ipython3",
   "version": "3.9.12"
  }
 },
 "nbformat": 4,
 "nbformat_minor": 5
}
