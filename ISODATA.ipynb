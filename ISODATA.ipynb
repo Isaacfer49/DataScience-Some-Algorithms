{
  "cells": [
    {
      "cell_type": "markdown",
      "metadata": {
        "id": "Vh4DFCcJGyxt"
      },
      "source": [
        "## Implementing ISODATA.\n",
        "Fernandez Paz Isaac Santiago.\n",
        "\n"
      ]
    },
    {
      "cell_type": "code",
      "execution_count": null,
      "metadata": {
        "id": "eRh_gCMPGs-P"
      },
      "outputs": [],
      "source": [
        "import numpy as np \n",
        "from numpy import linalg\n",
        "from scipy.spatial import distance_matrix\n",
        "import matplotlib.pyplot as plt\n",
        "from scipy.spatial.distance import pdist, squareform\n",
        "import seaborn as sns\n",
        "sns.set_theme()"
      ]
    },
    {
      "cell_type": "markdown",
      "metadata": {
        "id": "PBXKLSWcG3VW"
      },
      "source": [
        "## Implementa el algoritmo (7 puntos)"
      ]
    },
    {
      "cell_type": "code",
      "execution_count": null,
      "metadata": {
        "id": "v0eCyHkkG5mw"
      },
      "outputs": [],
      "source": [
        "class Isodata(): \n",
        "  def __init__(self, X, Y): ##Funtion to instance our class with our respective data points and Y centroids given.\n",
        "    self.X = X.copy() #Copy of our initial data points.\n",
        "    self.Y = Y.copy() #Copy of the centroids\n",
        "    self.c = len(self.Y) #number of centroids\n",
        "    self.m = len(self.X) #number of entries.\n",
        "\n",
        "  def assign_clusters(self):\n",
        "    # Calculate the distance between each data point in `self.X` and each cluster center in `self.Y`\n",
        "    distMat = distance_matrix(self.X, self.Y)\n",
        "    \n",
        "    # Find the index of the cluster center with the smallest distance for each data point\n",
        "    # `np.argmin` is used to find the minimum value in each row of the distance matrix `distMat`\n",
        "    # `np.array` is used to convert the resulting index values into a numpy array\n",
        "    self.labels = np.array([np.argmin(distMat[i]) for i in range(len(distMat))])\n",
        "\n",
        "\n",
        "  def remove_C(self):\n",
        "      # Check if there are any clusters with fewer than `self.m0` data points\n",
        "      if any([len(np.where(self.labels==i)[0]) < self.m0 for i in range(self.c)]):\n",
        "          \n",
        "          # Remove the first cluster with fewer than `self.m0` data points from `self.Y` using `np.delete`\n",
        "          # `np.where` is used to find the indices of data points belonging to the cluster\n",
        "          # `axis=0` is used to specify that the cluster center should be removed from `self.Y`\n",
        "          self.Y = np.delete(self.Y, [i for i in range(self.c) if len(np.where(self.labels==i)[0]) < self.m0][0], axis=0)\n",
        "          \n",
        "          # Update the number of clusters\n",
        "          self.c = len(self.Y)\n",
        "          \n",
        "          # Reassign data points to clusters using `self.assign_clusters`\n",
        "          self.assign_clusters()\n",
        "\n",
        "\n",
        "  def splitting_clusters(self):\n",
        "    # Find the index of the cluster with the largest standard deviation (`sigmajMax`) that exceeds `self.sigma0`\n",
        "    j = [i for i in range(self.c) if self.sigmajMax[i] > self.sigma0][0] #al menos habrá un elemento porque es condición para que splitting se llame\n",
        "    \n",
        "    # Extract the center of the cluster `j` as a numpy array\n",
        "    yj = self.Y[j, :]\n",
        "    \n",
        "    # Find the index of the dimension with the largest standard deviation for cluster `j`\n",
        "    i0 = self.sigmajMaxI0[j] \n",
        "    \n",
        "    # Create two new cluster centers by adding and subtracting `self.lamb*self.sigmajMax[j]` from the ith dimension of `yj`\n",
        "    yjMenos = yjMas = yj.copy()\n",
        "    yjMenos[i0] -= self.lamb*self.sigmajMax[j]\n",
        "    yjMas[i0] += self.lamb*self.sigmajMax[j]\n",
        "    \n",
        "    # Remove cluster `j` from `self.Y`\n",
        "    self.Y = np.delete(self.Y, j, axis=0)\n",
        "    \n",
        "    # Add the two new cluster centers to `self.Y`\n",
        "    self.Y = np.vstack((self.Y, yjMenos, yjMas))\n",
        "    \n",
        "    # Update the number of clusters\n",
        "    self.c = len(self.Y)\n",
        "    \n",
        "    # Reassign data points to clusters using `self.assign_clusters`\n",
        "    self.assign_clusters()\n",
        "\n",
        "\n",
        "  def lumping_clusters(self, l3): \n",
        "    # Compute the Euclidean distance matrix for the cluster centers and extract the lower triangular matrix\n",
        "    lowerT = np.tril(squareform(pdist(self.Y, metric='euclidean')), k=-1)\n",
        "    # Get the indices of the nonzero elements in `lowerT`\n",
        "    i, j = np.where(lowerT != 0)\n",
        "    # Sort the indices of the nonzero elements in increasing order of their corresponding distances\n",
        "    idx = np.argsort(lowerT[(i, j)])\n",
        "    \n",
        "    sortedIndices = np.column_stack((i[idx], j[idx]))\n",
        "    # Create a list to keep track of the clusters that have been lumped together\n",
        "    lumped = []\n",
        "     # Loop over the sorted indices of the pairwise distances between cluster centers\n",
        "    for i in range(len(sortedIndices)):\n",
        "    # If neither cluster has already been lumped with another cluster\n",
        "      if sortedIndices[i][0] not in lumped and sortedIndices[i][1] not in lumped:\n",
        "    # Count the number of points in each cluster\n",
        "        mi = len(np.where(self.labels == sortedIndices[i][0])[0])\n",
        "        mj = len(np.where(self.labels == sortedIndices[i][1])[0])\n",
        "    # Compute the new cluster center as a weighted average of the centers of the two clusters\n",
        "        Ynuevo = (self.Y[sortedIndices[i][0]]*mi + self.Y[sortedIndices[i][1]]*mj)/(mi + mj)\n",
        "     # Add the new cluster center to `self.Y`\n",
        "        self.Y = np.vstack((self.Y, Ynuevo))\n",
        "    # Add the indices of the two clusters that have been lumped together to `lumped`\n",
        "        lumped.append(sortedIndices[i][0])\n",
        "        lumped.append(sortedIndices[i][1])\n",
        "    \n",
        "    self.Y = np.delete(self.Y, lumped, axis=0)\n",
        "    \n",
        "    self.c = len(self.Y)\n",
        "    # Reassign data points to clusters using `self.assign_clusters`\n",
        "    self.assign_clusters()\n",
        "\n",
        "  def update_centers(self): \n",
        "    ##checks if the centroids have converged by comparing the distance between the old and new centroids \n",
        "    #(stored in \"Z\" and \"Y\", respectively) to a small value \"epsilon\". \n",
        "    #If the distance is smaller than epsilon and the number of clusters h\n",
        "    #as not changed (\"self.c\" equals \"self.c2\"), the variable \"NC\" is set to 0.\n",
        "    self.Y = np.array([np.mean(self.X[np.where(self.labels == i)[0], :], axis=0) for i in range(self.c)])\n",
        "    if self.c == self.c2 and linalg.norm(self.Y-self.Z) < self.epsilon: #idk\n",
        "      self.NC = 0\n",
        "    \n",
        "    self.assign_clusters()\n",
        "\n",
        "  def compute_avg_distances(self): \n",
        "    #Computes the average distance within a certain class \"j\"\n",
        "    self.dj = [np.sum(linalg.norm(self.X[np.where(self.labels == i)[0], :] - self.Y[i, :], axis=1))/len(np.where(self.labels == i)[0]) for i in range(self.c)]\n",
        "\n",
        "  def compute_global_distance(self): \n",
        "    ##Compute the average of all distances in all classes.\n",
        "    self.d = np.sum([self.dj[i]*len(np.where(self.labels == i)[0]) for i in range(self.c)])/self.m\n",
        "\n",
        "  def compute_std(self): \n",
        "    #computes the standard deviation of each cluster and stores the result in a numpy array called \"sigmaj\". \n",
        "    self.sigmaj = np.array([np.sqrt(np.sum((self.X[np.where(self.labels == i)[0], :] - self.Y[i])**2, axis=0)/len(self.X[np.where(self.labels == i)[0], :])) for i in range(self.c)])\n",
        "    #computes the maximum standard deviation across all clusters and stores the result. \n",
        "    #This is done using another list comprehension that iterates over each element of \"sigmaj\" and takes the maximum value.\n",
        "    self.sigmajMax = np.array([np.max(i) for i in self.sigmaj])\n",
        "    #computes the index of the feature with the maximum standard deviation for each cluster and stores the result \n",
        "    self.sigmajMaxI0 = np.array([np.argmax(i) for i in self.sigmaj])\n",
        "  \n",
        "  def classifier(self, N, k, m0, epsilon, sigma0, lamb, d0, l): \n",
        "    \n",
        "    #N: max number of iterations\n",
        "    #k: desired clusters\n",
        "    #m0: parameter for the minumum elements in a cluster.\n",
        "    #epsilon: error tolerance.\n",
        "    #sigma0: standard deviation parameter.\n",
        "    #lamb: plitting factor\n",
        "    #d0: lumping threshold\n",
        "    #l: max number of groups that can be lumped together\n",
        "    \n",
        "    self.N = N \n",
        "    self.k = k \n",
        "    self.m0 = m0\n",
        "    self.epsilon = epsilon \n",
        "    self.sigma0 = sigma0 \n",
        "    self.lamb = lamb \n",
        "    self.d0 = d0\n",
        "    self.l = l\n",
        "    self.labels = np.array([]) \n",
        "\n",
        "    #Step 1:\n",
        "    self.S = np.array([2]*self.N)\n",
        "    self.L = np.array([2]*self.N) \n",
        "    for it in range(self.N):\n",
        "      self.iter = it+1\n",
        "      #Step 2:\n",
        "      self.c2 = self.c\n",
        "      self.Z = self.Y.copy()\n",
        "      self.NC = 1\n",
        "      self.assign_clusters()\n",
        "      #Step 3:\n",
        "      self.remove_C()\n",
        "      #Step 4:\n",
        "      self.update_centers()\n",
        "      #Step 5:\n",
        "      self.compute_avg_distances()\n",
        "      #Step 6:\n",
        "      self.compute_global_distance()\n",
        "\n",
        "      #Step 7 a)\n",
        "      if self.c <= (self.k + 1)/2:\n",
        "        #Step 8:\n",
        "        self.S[it] = 0\n",
        "        self.flag = 3\n",
        "        self.compute_std()\n",
        "        #Checking againts standard deviation parameter.\n",
        "        if any([self.sigmajMax[i] > self.sigma0 for i in range(self.c)]):\n",
        "          #Generating two clusters from one.\n",
        "          self.splitting_clusters()\n",
        "          self.S[it] = 1\n",
        "        else:\n",
        "          if it>1 and self.L[it-1]==0 and self.NC==0:\n",
        "            break \n",
        "          elif it>1 and self.L[it-1]==0 and self.NC==1:\n",
        "            continue \n",
        "          elif it>1 and self.L[it-1]!=0:\n",
        "            continue\n",
        "          elif it==1:\n",
        "            continue \n",
        "\n",
        "      #Step 7 c)\n",
        "      elif self.c >= 2*self.k:\n",
        "        #Step 10:\n",
        "        self.L[it] = 0\n",
        "        if self.c < 2 and self.S[it] == 0 and self.NC == 0:\n",
        "          break\n",
        "        elif (self.c < 2 and self.S[it] == 0 and self.NC == 1) or (self.c < 2 and self.S[it] == 2):\n",
        "          continue\n",
        "        else:\n",
        "          #Checking for distances in each data point, and sorting them.\n",
        "          dij = np.sort(pdist(self.Y, metric='euclidean'))\n",
        "          l2 = len([i for i in dij if i <= self.d0])\n",
        "          l3 = min(self.l, l2)\n",
        "          if l3==0:\n",
        "            if self.S[it]==2:\n",
        "             continue\n",
        "            elif self.S[it]==0:\n",
        "              break\n",
        "          else:\n",
        "            self.L[it] = 1\n",
        "            self.lumping_clusters(l3) \n",
        "\n",
        "      #Step 7 b)\n",
        "      else:\n",
        "        if it%2:\n",
        "          #Step 8:\n",
        "          self.S[it] = 0\n",
        "          self.flag = 3\n",
        "          self.compute_std()\n",
        "          #Comparing against our standard devaition parameter.\n",
        "          try:\n",
        "            j = [i for i in range(self.c) if self.sigmajMax[i] > self.sigma0][0]\n",
        "          except:\n",
        "            continue \n",
        "          if any([self.sigmajMax[i] > self.sigma0 for i in range(self.c)]) and (self.dj[j] > self.d or len(np.where(self.labels == j)[0]) >= 2*self.m0):\n",
        "            #Again, break on cluster into two.\n",
        "            self.splitting_clusters()\n",
        "            self.S[it] = 1\n",
        "          else:\n",
        "            if it>1 and self.L[it-1]==0 and self.NC==0:\n",
        "              break \n",
        "            elif it>1 and self.L[it-1]==0 and self.NC==1:\n",
        "              continue \n",
        "            elif it>1 and self.L[it-1]!=0:\n",
        "              continue\n",
        "            elif it==1:\n",
        "              continue\n",
        "\n",
        "        #Step 7 d)\n",
        "        else:\n",
        "          #Step 10:\n",
        "          self.L[it] = 0\n",
        "          if self.c < 2 and self.S[it] == 0 and self.NC == 0:\n",
        "            break\n",
        "          elif (self.c < 2 and self.S[it] == 0 and self.NC == 1) or (self.c < 2 and self.S[it] == 2):\n",
        "            continue\n",
        "          else:\n",
        "            dij = np.sort(pdist(self.Y, metric='euclidean'))\n",
        "            l2 = len([i for i in dij if i <= self.d0])\n",
        "            l3 = min(self.l, l2)\n",
        "            if l3==0:\n",
        "              if self.S[it]==2:\n",
        "                continue\n",
        "              elif self.S[it]==0:\n",
        "                break\n",
        "            else:\n",
        "              self.L[it] = 1\n",
        "              self.lumping_clusters(l3) \n",
        "\n",
        "    \n",
        "    return self.Y, self.labels, self.iter #Return labels, centroids and iterations."
      ]
    },
    {
      "cell_type": "markdown",
      "metadata": {
        "id": "4XaZ_Xc2KXsL"
      },
      "source": [
        "## Test del algoritmo (1 punto)"
      ]
    },
    {
      "cell_type": "markdown",
      "metadata": {
        "id": "Ahu1hzo-KfXQ"
      },
      "source": [
        "Prueba el algoritmo con los siguientes patrones y grafica el resultado. "
      ]
    },
    {
      "cell_type": "code",
      "execution_count": null,
      "metadata": {
        "id": "HdwaKDb-KbGn"
      },
      "outputs": [],
      "source": [
        "X = np.array([[0, 0], [1, 0], [1, 1], [0, 1], [4, 1], [5, 1], [5, 2], [7, 1], [7, 2], [6, 3], [2 ,3], [1, 4], [2, 5], [3, 5]], dtype=float)\n",
        "y = np.array([[0, 0], [4, 1], [7, 2], [2, 3], [3, 5]], dtype=float)"
      ]
    },
    {
      "cell_type": "code",
      "source": [
        "iso = Isodata(X, y)\n",
        "centroids, labels, iterations = iso.classifier(30, 5, 2, 0.5, 1, 1, 2, 2)"
      ],
      "metadata": {
        "id": "9FHNGE-p39-1"
      },
      "execution_count": null,
      "outputs": []
    },
    {
      "cell_type": "code",
      "source": [
        "c = {0: 'red', 1:'blue', 2:'green',3:'orange',4:'black',5:'yellow'}\n",
        "cX = [c[i] for i in labels]\n",
        "cC = [c[i] for i in range(len(centroids))]\n",
        "\n",
        "plt.scatter(X[:, 0], X[:, 1], c=cX)\n",
        "plt.scatter(centroids[:, 0], centroids[:, 1], marker='x', c=cC)\n",
        "plt.title('Visualización de la agrupación con Isodata')\n",
        "plt.xlabel('X')\n",
        "plt.ylabel('Y')"
      ],
      "metadata": {
        "colab": {
          "base_uri": "https://localhost:8080/",
          "height": 318
        },
        "id": "irBzX7wP-JQB",
        "outputId": "7e95e535-9946-4f70-9667-f36d793559f7"
      },
      "execution_count": null,
      "outputs": [
        {
          "output_type": "execute_result",
          "data": {
            "text/plain": [
              "Text(0, 0.5, 'Y')"
            ]
          },
          "metadata": {},
          "execution_count": 29
        },
        {
          "output_type": "display_data",
          "data": {
            "text/plain": [
              "<Figure size 432x288 with 1 Axes>"
            ],
            "image/png": "[encoded data removed]"
          },
          "metadata": {}
        }
      ]
    },
    {
      "cell_type": "markdown",
      "metadata": {
        "id": "YVMt5T7CNeJR"
      },
      "source": [
        "## Mini-Cuestionario (2 puntos)"
      ]
    },
    {
      "cell_type": "markdown",
      "metadata": {
        "id": "eIvwdU3LOVJS"
      },
      "source": [
        "### Opinión: "
      ]
    },
    {
      "cell_type": "markdown",
      "metadata": {
        "id": "Oa6Cx9ssOPH7"
      },
      "source": [
        "### Conteste las 4 preguntas típicas de análisis y diseño de algoritmos\n",
        "\n",
        "\n",
        "**1. ¿Es correcto?**\n",
        "\n",
        "La clasificación que realizo este metodo con los parametros dados, parece que obtuve resultados \"favorables\". Sin embargo, la diferencia entre grupos no es tan dicernible al momento de tomar en cuenta cinco grupos. En especial para los grupos verde y azul, estan a una distancia muy cercana el uno del otro, tambien es importante considerar que la extensión de neustros datos es reducida. \n",
        "\n",
        "El algoritmo es correcto pues los datos de salida son los esperados, se obtuvieron 5 grupos que cumplen con los parametros establecidos para nuestra clase ISODATA.\n",
        "\n",
        "\n",
        "**2. ¿Complejidad temporal?**\n",
        "\n",
        "La complejidad temporal de ISODATA depende de varios factores, como el tamaño del conjunto de datos, el número de clústeres y los valores de umbral utilizados para fusionar y dividir los clústeres. En general, la complejidad temporal de ISODATA puede considerarse como $O(N \\cdot K \\cdot I)$, donde N es el número de puntos de datos, K es el número de clústeres e I es el número de iteraciones.\n",
        "\n",
        "La complejidad temporal de ISODATA se puede reducir estableciendo valores apropiados para los parámetros, como el número mínimo y máximo de clústeres, el tamaño mínimo y máximo del clúster y el umbral de convergencia. Además, ISODATA se puede optimizar mediante la paralelización del cálculo de las métricas de distancia entre los puntos de datos y los centroides de los clústeres.\n",
        "\n",
        "\n",
        "\n",
        "\n",
        "**3. ¿Complejidad espacial?**\n",
        "En general, la complejidad de espacio de ISODATA puede considerarse como $O(N + K)$, donde N es el número de puntos de datos y K es el número de clústeres.\n",
        "\n",
        "La complejidad de espacio de ISODATA se debe al almacenamiento de los datos y de los parámetros necesarios para el algoritmo, como los centroides de los clústeres, los umbrales de convergencia, el número de iteraciones, etc.\n",
        "\n",
        "**4. ¿Ventajas y desventajas?**\n",
        "\n",
        "Ventajas:\n",
        "\n",
        "* ISODATA es un algoritmo rápido y eficiente que puede procesar grandes  conjuntos de datos.\n",
        "* Es capaz de adaptarse a diferentes estructuras de datos y patrones de agrupamiento, lo que lo hace útil para una variedad de aplicaciones.\n",
        "* ISODATA utiliza una estrategia iterativa para optimizar los clústeres, lo que mejora la precisión y la calidad de los resultados.\n",
        "* Permite la especificación de varios parámetros para controlar el proceso de agrupamiento, lo que proporciona una mayor flexibilidad para adaptarse a diferentes necesidades.\n",
        "\n",
        "Desventajas:\n",
        "\n",
        "* La calidad de los resultados de ISODATA puede verse afectada por la elección incorrecta de los parámetros, lo que puede generar resultados inexactos o no deseados.\n",
        "* ISODATA no es adecuado para todos los tipos de datos, como los datos con una alta densidad de ruido o los datos con una alta dimensión.\n",
        "* El algoritmo requiere de una cantidad significativa de memoria y potencia de cómputo para procesar grandes conjuntos de datos.\n",
        "* Puede ser difícil determinar el número óptimo de clústeres para un conjunto de datos dado.\n",
        "\n",
        "\n",
        "\n",
        "\n",
        "\n",
        "\n"
      ]
    }
  ],
  "metadata": {
    "colab": {
      "provenance": []
    },
    "kernelspec": {
      "display_name": "Python 3",
      "name": "python3"
    },
    "language_info": {
      "name": "python"
    }
  },
  "nbformat": 4,
  "nbformat_minor": 0
}