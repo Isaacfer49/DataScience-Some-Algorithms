{
 "cells": [
  {
   "cell_type": "markdown",
   "id": "37a6640c",
   "metadata": {},
   "source": [
    "# Program 2.\n",
    "## Data Science \n",
    "### Team: \n",
    "* Ernesto Rivera Galvez\n",
    "\n",
    "* Isaac Santiago Fernandez Paz\n",
    "\n",
    "Write a program that is able to decipher the following text.\n",
    "\n",
    "Text: 'LA CRIPTOGRAFIA ES ROMANTICA'\n",
    "\n",
    "Key: 'HOLA' \n",
    "\n",
    "Let's start by defining the proper functions that will allows to decipher our texts\n"
   ]
  },
  {
   "cell_type": "markdown",
   "id": "64adf71f",
   "metadata": {},
   "source": [
    "### Writing our \"main\" functions; encrypting our texts and decoding them into intelligible language. \n",
    "\n",
    "_\"encrypter()\"_ will return an encrypted text. Having a text and a key as an input. This encryption method consists of creating a table with as much columns as the lenght of the _key_ word. After that, text will be written from left to right, up and down. However, there will be a minor restriction, if there is a repetition our criteria will take into consider whichever letter comes first. Columns will be ordered alphabetically according to the _key_ word. \n",
    "\n",
    "_\"decoder\"_ will return a deciphered text. As arguments this function requires our encrypted text and our _key_ word."
   ]
  },
  {
   "cell_type": "code",
   "execution_count": 47,
   "id": "605d5b91",
   "metadata": {},
   "outputs": [],
   "source": [
    "def encrypter(text, key):\n",
    "    \n",
    "    n = len(key)\n",
    "    M = list()\n",
    "    while len(text) % n != 0:\n",
    "        text += 'S' \n",
    "    m = len(text)\n",
    "    halfsies = m // n\n",
    "    count = 0\n",
    "    for i in range(halfsies):\n",
    "        row = [text[j] for j in range(count, count + n)]\n",
    "        count += n\n",
    "        M.append(row)\n",
    "    M = np.array(M)\n",
    "\n",
    "    lst = []\n",
    "    for i in range(n):\n",
    "        lst.append((key[i], M[:,i]))\n",
    "    \n",
    "    dict = {k:value for (k,value) in lst}\n",
    "    key_s = sorted(key) ##using function 'sort'\n",
    "    M2 = []\n",
    "    for i in range(n):\n",
    "        M2.append(dict[key_s[i]])\n",
    "    M2 = np.array(M2)\n",
    "    M2 = M2.T\n",
    "\n",
    "    encrypted = ''\n",
    "    for i in range(n):\n",
    "        column = M2[:,i]\n",
    "        for i in column:\n",
    "            encrypted += str(i)\n",
    "    return encrypted\n",
    "\n",
    "def decypher(encryption, key):\n",
    "    n = len(key)\n",
    "    contador = 0\n",
    "    halfsies = len(encryption) // n\n",
    "    \n",
    "    M = []\n",
    "    count = 0\n",
    "    for i in range(n):\n",
    "        row = [encryption[j] for j in range(count, count + halfsies)]\n",
    "        count+= halfsies\n",
    "        M.append(row)\n",
    "    M = np.array(M)\n",
    "    M = M.T\n",
    "\n",
    "    key_s = sorted(key)\n",
    "    lst = []\n",
    "    for i in range(n):\n",
    "        lst.append((key_s[i], M[:,i]))\n",
    "    \n",
    "    dict = {k:value for (k,value) in lst}\n",
    "\n",
    "    M2 = []\n",
    "    for i in range(n):\n",
    "        M2.append(dict[key[i]])\n",
    "    M2 = np.array(M2)\n",
    "    M2 = M2.T\n",
    "\n",
    "    final_text = ''\n",
    "    for i in range(len(M)):\n",
    "        row = M2[i]\n",
    "        for i in row:\n",
    "            final_text += str(i)\n",
    "\n",
    "    return final_text"
   ]
  },
  {
   "cell_type": "markdown",
   "id": "ebe6719e",
   "metadata": {},
   "source": [
    "## Let us test our given text and key. \n",
    "\n"
   ]
  },
  {
   "cell_type": "code",
   "execution_count": 33,
   "id": "8de34800",
   "metadata": {},
   "outputs": [],
   "source": [
    "import numpy as np"
   ]
  },
  {
   "cell_type": "code",
   "execution_count": 44,
   "id": "c5bd0d3f",
   "metadata": {},
   "outputs": [
    {
     "name": "stdout",
     "output_type": "stream",
     "text": [
      "ROFSACSLIGIRNACTAEMISAPRAOTS\n"
     ]
    }
   ],
   "source": [
    "text = 'LACRIPTOGRAFIAESROMANTICA'\n",
    "key = 'HOLA'\n",
    "M = encrypter(text,key)\n",
    "print(M)\n"
   ]
  },
  {
   "cell_type": "code",
   "execution_count": 46,
   "id": "612915a5",
   "metadata": {},
   "outputs": [
    {
     "name": "stdout",
     "output_type": "stream",
     "text": [
      "LACRIPTOGRAFIAESROMANTICASSS\n"
     ]
    }
   ],
   "source": [
    "text= 'ROFSACSLIGIRNACTAEMISAPRAOTS'\n",
    "key = 'HOLA'\n",
    "M = decypher(text,key)\n",
    "print(M)"
   ]
  },
  {
   "cell_type": "markdown",
   "id": "662832da",
   "metadata": {},
   "source": [
    "## Well done!"
   ]
  }
 ],
 "metadata": {
  "kernelspec": {
   "display_name": "Python 3 (ipykernel)",
   "language": "python",
   "name": "python3"
  },
  "language_info": {
   "codemirror_mode": {
    "name": "ipython",
    "version": 3
   },
   "file_extension": ".py",
   "mimetype": "text/x-python",
   "name": "python",
   "nbconvert_exporter": "python",
   "pygments_lexer": "ipython3",
   "version": "3.9.12"
  }
 },
 "nbformat": 4,
 "nbformat_minor": 5
}
